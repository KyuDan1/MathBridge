{
 "cells": [
  {
   "cell_type": "markdown",
   "metadata": {},
   "source": [
    "## It is banned by arXiv to access papers with crolling"
   ]
  },
  {
   "cell_type": "markdown",
   "metadata": {},
   "source": [
    "# 논문아이디 추출하는 코드"
   ]
  },
  {
   "cell_type": "code",
   "execution_count": 32,
   "metadata": {},
   "outputs": [],
   "source": [
    "import os\n",
    "import requests\n",
    "from bs4 import BeautifulSoup\n",
    "import csv\n",
    "# max papers 변수로 카테고리별 논문 다운로드 개수를 정할 수 있습니다.\n",
    "def get_arxiv_papers_link(category=\"math.AG\", max_papers=5, save_dir=\"./arxiv_papers\"):\n",
    "    html_link = []\n",
    "    base_url = \"https://arxiv.org\"\n",
    "    category_url = f\"{base_url}/list/{category}/current\"\n",
    "\n",
    "    if not os.path.exists(save_dir):\n",
    "        os.makedirs(save_dir)\n",
    "\n",
    "    try:\n",
    "        response = requests.get(category_url)\n",
    "        if response.status_code != 200:\n",
    "            print(\"Failed to retrieve the webpage\")\n",
    "            return\n",
    "\n",
    "        soup = BeautifulSoup(response.content, \"html.parser\")\n",
    "        paper_links = soup.find_all(\"a\", title=\"Abstract\", limit=max_papers)\n",
    "        \n",
    "\n",
    "        for link in paper_links:\n",
    "            abstract_page = base_url + link[\"href\"]\n",
    "            extracted_content = abstract_page.rsplit('/', 1)[-1] +\"v1\"\n",
    "            html_link.append(extracted_content)\n",
    "        print(html_link)\n",
    "        return html_link\n",
    "            \n",
    "\n",
    "    except Exception as e:\n",
    "        print(f\"An error occurred: {e}\")"
   ]
  },
  {
   "cell_type": "markdown",
   "metadata": {},
   "source": [
    "# 논문 id가 주어졌을 때 html에서 앞텍스트, 수식부분, 뒷텍스트만 추출하는 코드"
   ]
  },
  {
   "cell_type": "code",
   "execution_count": 29,
   "metadata": {},
   "outputs": [
    {
     "data": {
      "text/plain": [
       "\"# 사용 예시\\narxiv_id = '2403.14579v1' # 이 부분을 원하는 arXiv ID로 변경하세요.\\ndownload_math_expressions_unique(arxiv_id)\""
      ]
     },
     "execution_count": 29,
     "metadata": {},
     "output_type": "execute_result"
    }
   ],
   "source": [
    "import requests\n",
    "from bs4 import BeautifulSoup\n",
    "import csv\n",
    "\n",
    "def download_math_expressions_unique(arxiv_id, file_name='math_expressions.csv'):\n",
    "    # HTML 파일의 URL\n",
    "    url = f'https://arxiv.org/html/{arxiv_id}'\n",
    "\n",
    "    # 요청 보내기\n",
    "    response = requests.get(url)\n",
    "    if response.status_code == 200:\n",
    "        # HTML 파싱\n",
    "        soup = BeautifulSoup(response.text, 'html.parser')\n",
    "        # <math alttext=\"\"> 태그 찾기\n",
    "        math_tags = soup.find_all('math', alttext=True)\n",
    "        \n",
    "        # 중복 제거를 위한 세트\n",
    "        unique_expressions = set()\n",
    "        \n",
    "        # alttext 속성 값 추출 및 세트에 추가\n",
    "        for tag in math_tags:\n",
    "            alttext = tag['alttext'].strip()\n",
    "            unique_expressions.add(alttext)\n",
    "        \n",
    "        #txt 파일로 저장.\n",
    "        \"\"\"# 세트의 내용을 파일에 저장\n",
    "        with open('math.txt', 'w', encoding='utf-8') as file:\n",
    "            for expression in unique_expressions:\n",
    "                file.write(expression + '\\n\\n')\"\"\"\n",
    "        # csv 파일로 저장.\n",
    "        with open(file_name, 'w', newline='', encoding='utf-8') as file:\n",
    "            writer = csv.writer(file)\n",
    "            writer.writerow([' '])\n",
    "            for expression in unique_expressions:\n",
    "                writer.writerow([expression])\n",
    "                \n",
    "        print(f'formula saved: {file_name}')\n",
    "    else:\n",
    "        return -1\n",
    "\n",
    "\"\"\"# 사용 예시\n",
    "arxiv_id = '2403.14579v1' # 이 부분을 원하는 arXiv ID로 변경하세요.\n",
    "download_math_expressions_unique(arxiv_id)\"\"\"\n"
   ]
  },
  {
   "cell_type": "code",
   "execution_count": 38,
   "metadata": {},
   "outputs": [],
   "source": [
    "import requests\n",
    "from bs4 import BeautifulSoup\n",
    "import json\n",
    "import pandas as pd\n",
    "import os\n",
    "\n",
    "def download_math_expressions_with_context(arxiv_id, file_name='math_expressions.jsonl'):\n",
    "    # HTML 파일의 URL\n",
    "    url = f'https://arxiv.org/html/{arxiv_id}'\n",
    "\n",
    "    # 요청 보내기\n",
    "    response = requests.get(url)\n",
    "    if response.status_code == 200:\n",
    "        # HTML 파싱\n",
    "        soup = BeautifulSoup(response.text, 'html.parser')\n",
    "        # <math alttext=\"\"> 태그 찾기\n",
    "        math_tags = soup.find_all('math', alttext=True)\n",
    "        \n",
    "        # alttext 속성 값과 앞 뒤 텍스트 추출\n",
    "        expressions_with_context = []\n",
    "        for tag in math_tags:\n",
    "            alttext = tag['alttext'].strip()\n",
    "            previous_text = tag.previous_sibling.strip() if tag.previous_sibling and isinstance(tag.previous_sibling, str) else ''\n",
    "            next_text = tag.next_sibling.strip() if tag.next_sibling and isinstance(tag.next_sibling, str) else ''\n",
    "            expression_with_context = {\n",
    "                'Previous Text': previous_text,\n",
    "                'Math Expression': alttext,\n",
    "                'Next Text': next_text\n",
    "            }\n",
    "            expressions_with_context.append(expression_with_context)\n",
    "        \n",
    "        # 중복 제거\n",
    "        unique_expressions = [dict(t) for t in {tuple(d.items()) for d in expressions_with_context}]\n",
    "        \n",
    "        # 디렉토리 생성 (존재하지 않는 경우)\n",
    "        os.makedirs(os.path.dirname(file_name), exist_ok=True)\n",
    "        \n",
    "        # jsonl 파일로 저장\n",
    "        with open(file_name, 'w', encoding='utf-8') as file:\n",
    "            for expression in unique_expressions:\n",
    "                file.write(json.dumps(expression, ensure_ascii=False) + '\\n')\n",
    "                \n",
    "        print(f'Formulae saved: {file_name}')\n",
    "    else:\n",
    "        print('Failed to retrieve the page')\n",
    "        return -1"
   ]
  },
  {
   "cell_type": "markdown",
   "metadata": {},
   "source": [
    "### 하나 테스트"
   ]
  },
  {
   "cell_type": "code",
   "execution_count": 40,
   "metadata": {},
   "outputs": [
    {
     "name": "stdout",
     "output_type": "stream",
     "text": [
      "Formulae saved: arxiv_formulas_jsonl_240618/2406.00228v1_tex.jsonl\n"
     ]
    }
   ],
   "source": [
    "id = '2406.00228v1'\n",
    "download_math_expressions_with_context(id, file_name=f\"arxiv_formulas_jsonl_240618/{id}_tex.jsonl\")"
   ]
  },
  {
   "cell_type": "code",
   "execution_count": 42,
   "metadata": {},
   "outputs": [
    {
     "name": "stdout",
     "output_type": "stream",
     "text": [
      "['2406.00228v1', '2406.00230v1', '2406.00395v1', '2406.00400v1', '2406.00463v1']\n",
      "Formulae saved: arxiv_formulas_jsonl_240618/2406.00228v1_tex.jsonl\n",
      "Formulae saved: arxiv_formulas_jsonl_240618/2406.00230v1_tex.jsonl\n",
      "Formulae saved: arxiv_formulas_jsonl_240618/2406.00395v1_tex.jsonl\n",
      "Formulae saved: arxiv_formulas_jsonl_240618/2406.00400v1_tex.jsonl\n",
      "Formulae saved: arxiv_formulas_jsonl_240618/2406.00463v1_tex.jsonl\n"
     ]
    }
   ],
   "source": [
    "for id in get_arxiv_papers_link():\n",
    "    \n",
    "    try:\n",
    "        download_math_expressions_with_context(id, file_name=f\"arxiv_formulas_jsonl_240618/{id}_tex.jsonl\")\n",
    "    except Exception as e:\n",
    "        print(Exception)\n"
   ]
  },
  {
   "cell_type": "markdown",
   "metadata": {},
   "source": [
    "### jsonl 파일 표로 보기"
   ]
  },
  {
   "cell_type": "code",
   "execution_count": 44,
   "metadata": {},
   "outputs": [
    {
     "data": {
      "text/html": [
       "<div>\n",
       "<style scoped>\n",
       "    .dataframe tbody tr th:only-of-type {\n",
       "        vertical-align: middle;\n",
       "    }\n",
       "\n",
       "    .dataframe tbody tr th {\n",
       "        vertical-align: top;\n",
       "    }\n",
       "\n",
       "    .dataframe thead th {\n",
       "        text-align: right;\n",
       "    }\n",
       "</style>\n",
       "<table border=\"1\" class=\"dataframe\">\n",
       "  <thead>\n",
       "    <tr style=\"text-align: right;\">\n",
       "      <th></th>\n",
       "      <th>Previous Text</th>\n",
       "      <th>Math Expression</th>\n",
       "      <th>Next Text</th>\n",
       "    </tr>\n",
       "  </thead>\n",
       "  <tbody>\n",
       "    <tr>\n",
       "      <th>0</th>\n",
       "      <td>puisque la variété</td>\n",
       "      <td>\\tilde{X}</td>\n",
       "      <td>est rationnelle sur</td>\n",
       "    </tr>\n",
       "    <tr>\n",
       "      <th>1</th>\n",
       "      <td>avec</td>\n",
       "      <td>c\\in F^{\\times}</td>\n",
       "      <td>.</td>\n",
       "    </tr>\n",
       "    <tr>\n",
       "      <th>2</th>\n",
       "      <td>, donc</td>\n",
       "      <td>\\mathbb{Z}[\\omega]^{+}\\oplus\\mathbb{Z}[\\omega]...</td>\n",
       "      <td>. Ainsi</td>\n",
       "    </tr>\n",
       "    <tr>\n",
       "      <th>3</th>\n",
       "      <td></td>\n",
       "      <td>(1-\\sigma)(xe_{1}+ye_{2})=xe_{1}+ye_{2}+xe_{1}...</td>\n",
       "      <td></td>\n",
       "    </tr>\n",
       "    <tr>\n",
       "      <th>4</th>\n",
       "      <td>. Dans le premier cas, l’algèbre</td>\n",
       "      <td>A</td>\n",
       "      <td>est constante, et donc nulle dans</td>\n",
       "    </tr>\n",
       "    <tr>\n",
       "      <th>...</th>\n",
       "      <td>...</td>\n",
       "      <td>...</td>\n",
       "      <td>...</td>\n",
       "    </tr>\n",
       "    <tr>\n",
       "      <th>1984</th>\n",
       "      <td>avec</td>\n",
       "      <td>div_{X_{K}}(f)=N_{K/k}(\\Delta)</td>\n",
       "      <td>sur la classe de</td>\n",
       "    </tr>\n",
       "    <tr>\n",
       "      <th>1985</th>\n",
       "      <td>est définie par</td>\n",
       "      <td>\\Phi=0</td>\n",
       "      <td>.</td>\n",
       "    </tr>\n",
       "    <tr>\n",
       "      <th>1986</th>\n",
       "      <td></td>\n",
       "      <td>u\\in\\mathbb{R}(\\mathbb{P}^{1})\\subset\\mathbb{R...</td>\n",
       "      <td></td>\n",
       "    </tr>\n",
       "    <tr>\n",
       "      <th>1987</th>\n",
       "      <td>, on peut aussi déduire</td>\n",
       "      <td>(iv)</td>\n",
       "      <td>de la manière suivante.\\nLa fibration en coniq...</td>\n",
       "    </tr>\n",
       "    <tr>\n",
       "      <th>1988</th>\n",
       "      <td>,\\nl’application</td>\n",
       "      <td>H^{i}(L,\\mu)\\to H^{i}_{nr}(L(X)/L,\\mu)</td>\n",
       "      <td>est un isomorphisme. En particulier l’application</td>\n",
       "    </tr>\n",
       "  </tbody>\n",
       "</table>\n",
       "<p>1989 rows × 3 columns</p>\n",
       "</div>"
      ],
      "text/plain": [
       "                         Previous Text  \\\n",
       "0                   puisque la variété   \n",
       "1                                 avec   \n",
       "2                               , donc   \n",
       "3                                        \n",
       "4     . Dans le premier cas, l’algèbre   \n",
       "...                                ...   \n",
       "1984                              avec   \n",
       "1985                   est définie par   \n",
       "1986                                     \n",
       "1987           , on peut aussi déduire   \n",
       "1988                  ,\\nl’application   \n",
       "\n",
       "                                        Math Expression  \\\n",
       "0                                             \\tilde{X}   \n",
       "1                                       c\\in F^{\\times}   \n",
       "2     \\mathbb{Z}[\\omega]^{+}\\oplus\\mathbb{Z}[\\omega]...   \n",
       "3     (1-\\sigma)(xe_{1}+ye_{2})=xe_{1}+ye_{2}+xe_{1}...   \n",
       "4                                                     A   \n",
       "...                                                 ...   \n",
       "1984                     div_{X_{K}}(f)=N_{K/k}(\\Delta)   \n",
       "1985                                             \\Phi=0   \n",
       "1986  u\\in\\mathbb{R}(\\mathbb{P}^{1})\\subset\\mathbb{R...   \n",
       "1987                                               (iv)   \n",
       "1988             H^{i}(L,\\mu)\\to H^{i}_{nr}(L(X)/L,\\mu)   \n",
       "\n",
       "                                              Next Text  \n",
       "0                                   est rationnelle sur  \n",
       "1                                                     .  \n",
       "2                                               . Ainsi  \n",
       "3                                                        \n",
       "4                     est constante, et donc nulle dans  \n",
       "...                                                 ...  \n",
       "1984                                   sur la classe de  \n",
       "1985                                                  .  \n",
       "1986                                                     \n",
       "1987  de la manière suivante.\\nLa fibration en coniq...  \n",
       "1988  est un isomorphisme. En particulier l’application  \n",
       "\n",
       "[1989 rows x 3 columns]"
      ]
     },
     "execution_count": 44,
     "metadata": {},
     "output_type": "execute_result"
    }
   ],
   "source": [
    "import pandas as pd\n",
    "import json\n",
    "\n",
    "def jsonl_to_dataframe(file_name):\n",
    "    # JSON Lines 파일 읽기\n",
    "    data = []\n",
    "    with open(file_name, 'r', encoding='utf-8') as file:\n",
    "        for line in file:\n",
    "            data.append(json.loads(line.strip()))\n",
    "    \n",
    "    # DataFrame으로 변환\n",
    "    df = pd.DataFrame(data)\n",
    "    \n",
    "    # DataFrame 출력\n",
    "    return df\n",
    "\n",
    "# Example usage\n",
    "df = jsonl_to_dataframe('arxiv_formulas_jsonl_240618/2406.00463v1_tex.jsonl')\n",
    "df"
   ]
  },
  {
   "cell_type": "markdown",
   "metadata": {},
   "source": [
    "# jsonl 파일들 하나로 합치기"
   ]
  },
  {
   "cell_type": "code",
   "execution_count": 45,
   "metadata": {},
   "outputs": [
    {
     "name": "stdout",
     "output_type": "stream",
     "text": [
      "Merged 5 files into merged_arxiv_formulas.jsonl\n"
     ]
    }
   ],
   "source": [
    "import glob\n",
    "\n",
    "def merge_jsonl_files(input_directory, output_file):\n",
    "    # 입력 디렉토리에서 모든 jsonl 파일 찾기\n",
    "    jsonl_files = glob.glob(f'{input_directory}/*.jsonl')\n",
    "    \n",
    "    # 출력 파일 열기\n",
    "    with open(output_file, 'w', encoding='utf-8') as outfile:\n",
    "        for file_name in jsonl_files:\n",
    "            with open(file_name, 'r', encoding='utf-8') as infile:\n",
    "                for line in infile:\n",
    "                    outfile.write(line)\n",
    "    \n",
    "    print(f'Merged {len(jsonl_files)} files into {output_file}')\n",
    "\n",
    "# Example usage\n",
    "merge_jsonl_files('arxiv_formulas_jsonl_240618', 'merged_arxiv_formulas.jsonl')\n"
   ]
  }
 ],
 "metadata": {
  "kernelspec": {
   "display_name": "venv",
   "language": "python",
   "name": "python3"
  },
  "language_info": {
   "codemirror_mode": {
    "name": "ipython",
    "version": 3
   },
   "file_extension": ".py",
   "mimetype": "text/x-python",
   "name": "python",
   "nbconvert_exporter": "python",
   "pygments_lexer": "ipython3",
   "version": "3.12.2"
  }
 },
 "nbformat": 4,
 "nbformat_minor": 2
}
